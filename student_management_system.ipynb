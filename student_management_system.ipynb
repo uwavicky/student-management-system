{
 "cells": [
  {
   "cell_type": "code",
   "execution_count": 27,
   "id": "2a186f2f-6fe1-46d2-95ca-674bb94ad477",
   "metadata": {},
   "outputs": [],
   "source": [
    "# Student Management System Project\n",
    "\n",
    "# Importing the required modules \n",
    "\n",
    "import os\n",
    "import getpass\n",
    "import datetime "
   ]
  },
  {
   "cell_type": "code",
   "execution_count": 28,
   "id": "8220fa8e-070c-46b8-a83f-64cda7f0edcd",
   "metadata": {},
   "outputs": [],
   "source": [
    "# --------------------------------\n",
    "# File paths\n",
    "# --------------------------------\n",
    "\n",
    "USER_FILE = \"users.txt\"\n",
    "STUDENT_FILE = \"students.txt\"\n",
    "LOG_FILE = \"activity_log.txt\""
   ]
  },
  {
   "cell_type": "code",
   "execution_count": 29,
   "id": "2965b275-8476-4306-9ded-862df1208332",
   "metadata": {},
   "outputs": [],
   "source": [
    "#Log user's function \n",
    "\n",
    "def log_activity(username, action):\n",
    "    \"\"\"Log action with timestamp\"\"\"\n",
    "    with open(LOG_FILE, \"a\") as log:\n",
    "        log.write(f\"{datetime.datetime.now()} - {username} - {action}\\n\")\n",
    "\n",
    "#Load user's function \n",
    "\n",
    "def load_users():\n",
    "    \"\"\"Load users from file into a dictionary\"\"\"\n",
    "    users = {}\n",
    "    if os.path.exists(USER_FILE):\n",
    "        with open(USER_FILE, \"r\") as f:\n",
    "            for line in f:\n",
    "                if \",\" in line:\n",
    "                    uname, pwd = line.strip().split(\",\",1)\n",
    "                    users[uname] = pwd\n",
    "    return users"
   ]
  },
  {
   "cell_type": "code",
   "execution_count": 30,
   "id": "431c1282-cd99-46a1-8af1-b4a30b1720b7",
   "metadata": {},
   "outputs": [],
   "source": [
    "# Save user function \n",
    "\n",
    "def save_user(username, password):\n",
    "    \"\"\"Save new user to the file\"\"\"\n",
    "    with open(USER_FILE, \"a\") as f:\n",
    "        f.write(f\"{username},{password}\\n\")"
   ]
  },
  {
   "cell_type": "code",
   "execution_count": 31,
   "id": "b5375c29-3cc3-431a-b819-296d66daa1cc",
   "metadata": {},
   "outputs": [],
   "source": [
    "#Authenticate user \n",
    "\n",
    "def authenticate():\n",
    "    \"\"\"Authenticate user login\"\"\"\n",
    "    users = load_users()\n",
    "    username = input(\"Enter username: \")\n",
    "    password = getpass.getpass(\"Enter password: \")\n",
    "\n",
    "    if username in users and users[username] == password:\n",
    "        log_activity(username, \"Logged in\")\n",
    "        print(\"\\n✅ Login Successful!\\n\")\n",
    "        return username\n",
    "    else:\n",
    "        print(\"\\n❌ Invalid credentials!\\n\")\n",
    "        return None"
   ]
  },
  {
   "cell_type": "code",
   "execution_count": 32,
   "id": "6eb43076-0b36-4e86-a41e-02f93a7b26e1",
   "metadata": {},
   "outputs": [],
   "source": [
    "# Student data management \n",
    "\n",
    "\n",
    "# Add student function \n",
    "\n",
    "def add_student(username):\n",
    "    roll = input(\"Enter Roll Number: \")\n",
    "    name = input(\"Enter name: \")\n",
    "    grade = input(\"Enter Grade: \")\n",
    "\n",
    "    with open(STUDENT_FILE,\"a\") as f:\n",
    "        f.write(f\"{roll},{name},{grade}\\n\")\n",
    "\n",
    "    log_activity(username, f\"Added student {roll}\")\n",
    "    print(\"✅ Student added successfully!\")"
   ]
  },
  {
   "cell_type": "code",
   "execution_count": 33,
   "id": "2b259533-fb3c-4447-99f4-ba6c79bed061",
   "metadata": {},
   "outputs": [],
   "source": [
    "# View student function \n",
    "\n",
    "def view_students():\n",
    "    if not os.path.exists(STUDENT_FILE):\n",
    "        print(\"No records found.\")\n",
    "        return \n",
    "\n",
    "    with open(STUDENT_FILE, \"r\") as f:\n",
    "        print(\"\\n ---Student Records ---\")\n",
    "        for line in f:\n",
    "            roll, name, grade = line.strip().split(\",\")\n",
    "            print(f\"Roll: {roll} | Name: {name} | Grade: {grade}\")"
   ]
  },
  {
   "cell_type": "code",
   "execution_count": 34,
   "id": "242c1db9-6867-4f21-80fc-63ca496a8aa9",
   "metadata": {},
   "outputs": [],
   "source": [
    "# Searching student function \n",
    "\n",
    "def search_student():\n",
    "    roll_no = input(\"Enter Roll Number to search: \")\n",
    "    found = False\n",
    "\n",
    "    if os.path.exists(STUDENT_FILE):\n",
    "        with open(STUDENT_FILE, \"r\") as f:\n",
    "            for line in f:\n",
    "                # Skip empty or invalid lines\n",
    "                parts = line.strip().split(\",\")\n",
    "                if len(parts) != 3:\n",
    "                    continue\n",
    "                roll, name, grade = parts\n",
    "                if roll == roll_no:\n",
    "                    print(f\"✅ Found: Roll: {roll} | Name: {name} | Grade: {grade}\")\n",
    "                    found = True\n",
    "                    break"
   ]
  },
  {
   "cell_type": "code",
   "execution_count": 35,
   "id": "7fdfe023-03ba-425a-93bd-642a28565f89",
   "metadata": {},
   "outputs": [],
   "source": [
    "# Update student function \n",
    "\n",
    "def update_student(username):\n",
    "    roll_no = input(\"Enter Roll Number to update: \")\n",
    "    students = []\n",
    "    updated = False\n",
    "\n",
    "    if os.path.exists(STUDENT_FILE):\n",
    "        with open(STUDENT_FILE, \"r\") as f:\n",
    "            students = f.readlines()\n",
    "\n",
    "        with open(STUDENT_FILE, \"w\") as f:\n",
    "            for line in students:\n",
    "                roll, name, grade = line.strip().split(\",\")\n",
    "                if roll == roll_no:\n",
    "                    print(f\"current Data -> Name: {name}, Grade: {grade}\")\n",
    "                    new_name = input(\"Enter new name: \")\n",
    "                    new_grade = input(\"Enter new grade: \")\n",
    "                    f.write(f\"{roll},{new_name},{new_grade}\\n\")\n",
    "                    updated = True\n",
    "                    log_activity(username, f\"updated student {roll}\")\n",
    "                else:\n",
    "                    f.write(line)\n",
    "\n",
    "    if updated:\n",
    "        print(\"✅ Student record updated.\")\n",
    "    else:\n",
    "        print(\"❌ Student not found.\")"
   ]
  },
  {
   "cell_type": "code",
   "execution_count": 36,
   "id": "8a81b5e2-6998-4b5f-ab26-f970327370fe",
   "metadata": {},
   "outputs": [],
   "source": [
    "# Delete STudent function \n",
    "\n",
    "def delete_student(username):\n",
    "    roll_no = input(\"Enter Roll Number to delete: \")\n",
    "    students = []\n",
    "    deleted = False\n",
    "\n",
    "    if os.path.exists(STUDENT_FILE):\n",
    "        with open(STUDENT_FILE, \"r\") as f:\n",
    "            students = f.readlines()\n",
    "\n",
    "        with open(STUDENT_FILE, \"w\") as f:\n",
    "            for line in students:\n",
    "                # skip empty or invalid lines\n",
    "                parts = line.strip().split(\",\")\n",
    "                if len(parts) !=3:\n",
    "                    f.write(line) # Keep invalid lines uncahnged\n",
    "                    continue\n",
    "\n",
    "                roll, name, grade = parts\n",
    "                if roll== roll_no:\n",
    "                    deleted = True\n",
    "                    # Lod deletion \n",
    "\n",
    "                    log_activity(username, f\"Deleted student {roll}\")\n",
    "                else:\n",
    "                    f.write(line)\n",
    "                    \n",
    "    if deleted:\n",
    "        print(\"✅ Student record deleted.\")\n",
    "    else:\n",
    "        print(\"❌ Student not found.\")"
   ]
  },
  {
   "cell_type": "code",
   "execution_count": 37,
   "id": "d3fa51ad-315d-40c1-815c-e07aed133510",
   "metadata": {},
   "outputs": [],
   "source": [
    "# Report generation \n",
    "\n",
    "def generate_report():\n",
    "    if not os.path.exists(STUDENT_FILE):\n",
    "        print(\"No records available.\")\n",
    "        return\n",
    "\n",
    "    total = 0\n",
    "    grades = {}\n",
    "    with open(STUDENT_FILE, \"r\") as f:\n",
    "        for line in f:\n",
    "            roll, name, grade = line.strip().split(\",\")\n",
    "            total += 1\n",
    "            grades[grade] = grades.get(grade, 0) + 1\n",
    "\n",
    "    print(\"\\n📊 Student Report\")\n",
    "    print(f\"Total students: {total}\")\n",
    "    for g, count in grades.items():\n",
    "        print(f\"Grade {g}: {count} student(s)\")"
   ]
  },
  {
   "cell_type": "code",
   "execution_count": 38,
   "id": "b4fa0fd3-1863-4204-9d3d-7d876135d5af",
   "metadata": {},
   "outputs": [
    {
     "name": "stdout",
     "output_type": "stream",
     "text": [
      "===== Student Management System ===\n",
      "No user found. Create an Admin account.\n"
     ]
    },
    {
     "name": "stdin",
     "output_type": "stream",
     "text": [
      "Set Admin Username:  uwavicky\n",
      "Set Admin Password:  ········\n"
     ]
    },
    {
     "name": "stdout",
     "output_type": "stream",
     "text": [
      "✅ Admin created! Please restart the program.\n"
     ]
    },
    {
     "name": "stdin",
     "output_type": "stream",
     "text": [
      "Enter username:  uwavicky\n",
      "Enter password:  ········\n"
     ]
    },
    {
     "name": "stdout",
     "output_type": "stream",
     "text": [
      "\n",
      "✅ Login Successful!\n",
      "\n",
      "\n",
      "--- Main Menue ---\n",
      "1. Add Student\n",
      "2. View All Students\n",
      "3. Search Student\n",
      "4. Update Student\n",
      "5. Delete Student\n",
      "6. Generate Student\n",
      "7. Logout & Exit\n"
     ]
    },
    {
     "name": "stdin",
     "output_type": "stream",
     "text": [
      "Enter choice:  1\n",
      "Enter Roll Number:  7\n",
      "Enter name:  Charles Hirwa\n",
      "Enter Grade:  C\n"
     ]
    },
    {
     "name": "stdout",
     "output_type": "stream",
     "text": [
      "✅ Student added successfully!\n",
      "\n",
      "--- Main Menue ---\n",
      "1. Add Student\n",
      "2. View All Students\n",
      "3. Search Student\n",
      "4. Update Student\n",
      "5. Delete Student\n",
      "6. Generate Student\n",
      "7. Logout & Exit\n"
     ]
    },
    {
     "name": "stdin",
     "output_type": "stream",
     "text": [
      "Enter choice:  2\n"
     ]
    },
    {
     "name": "stdout",
     "output_type": "stream",
     "text": [
      "\n",
      " ---Student Records ---\n",
      "Roll: 1 | Name: Victor Ntigura Uwahoro | Grade: A\n",
      "Roll: 2 | Name: Regine Ingabire | Grade: B\n",
      "Roll: 3 | Name: Olga Akayo | Grade: B\n",
      "Roll: 4 | Name: Elga Charlie Arakoze | Grade: B\n",
      "Roll: 5 | Name: Elsie Victoria AKuzwe | Grade: A\n",
      "Roll: 6 | Name: Baho Bailey Briar | Grade: A\n",
      "Roll: 7 | Name: Charles Hirwa | Grade: C\n",
      "\n",
      "--- Main Menue ---\n",
      "1. Add Student\n",
      "2. View All Students\n",
      "3. Search Student\n",
      "4. Update Student\n",
      "5. Delete Student\n",
      "6. Generate Student\n",
      "7. Logout & Exit\n"
     ]
    },
    {
     "name": "stdin",
     "output_type": "stream",
     "text": [
      "Enter choice:  3\n",
      "Enter Roll Number to search:  1\n"
     ]
    },
    {
     "name": "stdout",
     "output_type": "stream",
     "text": [
      "✅ Found: Roll: 1 | Name: Victor Ntigura Uwahoro | Grade: A\n",
      "\n",
      "--- Main Menue ---\n",
      "1. Add Student\n",
      "2. View All Students\n",
      "3. Search Student\n",
      "4. Update Student\n",
      "5. Delete Student\n",
      "6. Generate Student\n",
      "7. Logout & Exit\n"
     ]
    },
    {
     "name": "stdin",
     "output_type": "stream",
     "text": [
      "Enter choice:  4\n",
      "Enter Roll Number to update:  3\n"
     ]
    },
    {
     "name": "stdout",
     "output_type": "stream",
     "text": [
      "current Data -> Name: Olga Akayo, Grade: B\n"
     ]
    },
    {
     "name": "stdin",
     "output_type": "stream",
     "text": [
      "Enter new name:  Olga Mahirwe\n",
      "Enter new grade:  A\n"
     ]
    },
    {
     "name": "stdout",
     "output_type": "stream",
     "text": [
      "✅ Student record updated.\n",
      "\n",
      "--- Main Menue ---\n",
      "1. Add Student\n",
      "2. View All Students\n",
      "3. Search Student\n",
      "4. Update Student\n",
      "5. Delete Student\n",
      "6. Generate Student\n",
      "7. Logout & Exit\n"
     ]
    },
    {
     "name": "stdin",
     "output_type": "stream",
     "text": [
      "Enter choice:  6\n"
     ]
    },
    {
     "name": "stdout",
     "output_type": "stream",
     "text": [
      "\n",
      "📊 Student Report\n",
      "Total students: 7\n",
      "Grade A: 4 student(s)\n",
      "Grade B: 2 student(s)\n",
      "Grade C: 1 student(s)\n",
      "\n",
      "--- Main Menue ---\n",
      "1. Add Student\n",
      "2. View All Students\n",
      "3. Search Student\n",
      "4. Update Student\n",
      "5. Delete Student\n",
      "6. Generate Student\n",
      "7. Logout & Exit\n"
     ]
    },
    {
     "name": "stdin",
     "output_type": "stream",
     "text": [
      "Enter choice:  7\n"
     ]
    },
    {
     "name": "stdout",
     "output_type": "stream",
     "text": [
      "👋 Goodbye!\n"
     ]
    }
   ],
   "source": [
    "# Main program \n",
    "\n",
    "def main():\n",
    "    print(\"===== Student Management System ===\")\n",
    "\n",
    "    # Ensure admin user exists\n",
    "\n",
    "    if not os.path.exists(USER_FILE):\n",
    "        print(\"No user found. Create an Admin account.\")\n",
    "        uname = input(\"Set Admin Username: \")\n",
    "        pwd = getpass.getpass(\"Set Admin Password: \")\n",
    "        save_user(uname, pwd)\n",
    "        print(\"✅ Admin created! Please restart the program.\")\n",
    "\n",
    "    username = None\n",
    "    while not username:\n",
    "        username = authenticate()\n",
    "\n",
    "    # Menue\n",
    "\n",
    "    while True:\n",
    "        print(\"\\n--- Main Menue ---\")\n",
    "        print(\"1. Add Student\")\n",
    "        print(\"2. View All Students\")\n",
    "        print(\"3. Search Student\")\n",
    "        print(\"4. Update Student\")\n",
    "        print(\"5. Delete Student\")\n",
    "        print(\"6. Generate Student\")\n",
    "        print(\"7. Logout & Exit\")\n",
    "\n",
    "        choice = input(\"Enter choice: \")\n",
    "\n",
    "        if choice == \"1\":\n",
    "            add_student(username)\n",
    "        elif choice == \"2\":\n",
    "            view_students()\n",
    "        elif choice == \"3\":\n",
    "            search_student()\n",
    "        elif choice == \"4\":\n",
    "            update_student(username)\n",
    "        elif choice == \"5\":\n",
    "            delete_student(username)\n",
    "        elif choice == \"6\":\n",
    "            generate_report()\n",
    "        elif choice == \"7\":\n",
    "            log_activity(username, \"Logged out\")\n",
    "            print(\"👋 Goodbye!\")\n",
    "            break\n",
    "        else:\n",
    "            print(\"❌ Invalid choice! Please try again.\")\n",
    "\n",
    "if __name__ == \"__main__\":\n",
    "    main()"
   ]
  },
  {
   "cell_type": "code",
   "execution_count": null,
   "id": "9341289d-5699-41e4-9667-ef062a9db306",
   "metadata": {},
   "outputs": [],
   "source": []
  }
 ],
 "metadata": {
  "kernelspec": {
   "display_name": "Python [conda env:datascience]",
   "language": "python",
   "name": "conda-env-datascience-py"
  },
  "language_info": {
   "codemirror_mode": {
    "name": "ipython",
    "version": 3
   },
   "file_extension": ".py",
   "mimetype": "text/x-python",
   "name": "python",
   "nbconvert_exporter": "python",
   "pygments_lexer": "ipython3",
   "version": "3.11.13"
  }
 },
 "nbformat": 4,
 "nbformat_minor": 5
}
